{
  "nbformat": 4,
  "nbformat_minor": 0,
  "metadata": {
    "colab": {
      "provenance": [],
      "authorship_tag": "ABX9TyNXazuLg/GYNrMQiCY1zrFk",
      "include_colab_link": true
    },
    "kernelspec": {
      "name": "python3",
      "display_name": "Python 3"
    },
    "language_info": {
      "name": "python"
    }
  },
  "cells": [
    {
      "cell_type": "markdown",
      "metadata": {
        "id": "view-in-github",
        "colab_type": "text"
      },
      "source": [
        "<a href=\"https://colab.research.google.com/github/SkyRanger2010/DE2025_ETL_HW/blob/main/HW%2314/PSI_test.ipynb\" target=\"_parent\"><img src=\"https://colab.research.google.com/assets/colab-badge.svg\" alt=\"Open In Colab\"/></a>"
      ]
    },
    {
      "cell_type": "code",
      "source": [
        "import numpy as np\n",
        "import pandas as pd\n",
        "import datetime as dt"
      ],
      "metadata": {
        "id": "a5FqXNMSL3D1"
      },
      "execution_count": 17,
      "outputs": []
    },
    {
      "cell_type": "code",
      "execution_count": 18,
      "metadata": {
        "id": "Txca8F5gL0cB"
      },
      "outputs": [],
      "source": [
        "\n",
        "def _psi(expected: np.ndarray, actual: np.ndarray, bucket_type: str = \"bins\", n_bins: int = 10) -> float:\n",
        "    \"\"\"Calculate PSI metric for two arrays.\n",
        "\n",
        "    Parameters\n",
        "    ----------\n",
        "        expected : list-like\n",
        "            Array of expected values\n",
        "        actual : list-like\n",
        "            Array of actual values\n",
        "        bucket_type : str\n",
        "            Binning strategy. Accepts two options: 'bins' and 'quantiles'. Defaults to 'bins'.\n",
        "            'bins': input arrays are splitted into bins with equal\n",
        "                and fixed steps based on 'expected' array\n",
        "            'quantiles': input arrays are binned according to 'expected' array\n",
        "                with given number of n_bins\n",
        "        n_bins : int\n",
        "            Number of buckets for binning. Defaults to 10.\n",
        "\n",
        "    Returns\n",
        "    -------\n",
        "        A single float number\n",
        "    \"\"\"\n",
        "    breakpoints = np.arange(0, n_bins + 1) / (n_bins) * 100\n",
        "    if bucket_type == \"bins\":\n",
        "        breakpoints = np.histogram(expected, n_bins)[1]\n",
        "    elif bucket_type == \"quantiles\":\n",
        "        breakpoints = np.percentile(expected, breakpoints)\n",
        "\n",
        "    # Calculate frequencies\n",
        "    expected_percents = np.histogram(expected, breakpoints)[0] / len(expected)\n",
        "    actual_percents = np.histogram(actual, breakpoints)[0] / len(actual)\n",
        "    # Clip freaquencies to avoid zero division\n",
        "    expected_percents = np.clip(expected_percents, a_min=0.0001, a_max=None)\n",
        "    actual_percents = np.clip(actual_percents, a_min=0.0001, a_max=None)\n",
        "    # Calculate PSI\n",
        "    psi_value = (expected_percents - actual_percents) * np.log(expected_percents / actual_percents)\n",
        "    psi_value = sum(psi_value)\n",
        "\n",
        "    return psi_value\n",
        "\n",
        "\n",
        "def calculate_psi(\n",
        "        expected: np.ndarray, actual: np.ndarray, bucket_type: str = \"bins\", n_bins: int = 10, axis: int = 0\n",
        ") -> np.ndarray:\n",
        "    \"\"\"Apply PSI calculation to 2 1-d or 2-d arrays.\n",
        "\n",
        "    Parameters\n",
        "    ----------\n",
        "    expected : list-like\n",
        "        Array of expected values\n",
        "    actual : list-like\n",
        "        Array of actual values\n",
        "    bucket_type : str\n",
        "        Binning strategy. Accepts two options: 'bins' and 'quantiles'. Defaults to 'bins'.\n",
        "            'bins' - input arrays are splitted into bins with equal\n",
        "                and fixed steps based on ’expected' array\n",
        "            'quantiles' - input arrays are binned according to ’expected’ array\n",
        "                with given number of n_bins\n",
        "    n_bins : int\n",
        "        Number of buckets for binning. Defaults to 10.\n",
        "\n",
        "    Returns\n",
        "    -------\n",
        "        np.ndarray\n",
        "    \"\"\"\n",
        "    if len(expected.shape) == 1:\n",
        "        psi_values = np.empty(len(expected.shape))\n",
        "    else:\n",
        "        psi_values = np.empty(expected.shape[axis])\n",
        "\n",
        "    for i in range(0, len(psi_values)):\n",
        "        if len(psi_values) == 1:\n",
        "            psi_values = _psi(expected, actual, bucket_type, n_bins)\n",
        "        elif axis == 0:\n",
        "            psi_values[i] = _psi(expected[:, i], actual[:, i], bucket_type, n_bins)\n",
        "        elif axis == 1:\n",
        "            psi_values[i] = _psi(expected[i, :], actual[i, :], bucket_type, n_bins)\n",
        "        return np.array(psi_values)"
      ]
    },
    {
      "cell_type": "code",
      "source": [
        "df=pd.read_csv(\"weather_data.csv\")"
      ],
      "metadata": {
        "id": "NrpNVE-MMQG3"
      },
      "execution_count": 96,
      "outputs": []
    },
    {
      "cell_type": "code",
      "source": [
        "df['Day'] = pd.DatetimeIndex(df['Date_Time']).day\n",
        "df.head(1)"
      ],
      "metadata": {
        "colab": {
          "base_uri": "https://localhost:8080/",
          "height": 80
        },
        "id": "NfnFHgWYYkaz",
        "outputId": "91cf885e-f962-4339-8aaf-d67204c02ee0"
      },
      "execution_count": 97,
      "outputs": [
        {
          "output_type": "execute_result",
          "data": {
            "text/plain": [
              "    Location            Date_Time  Temperature_C  Humidity_pct  \\\n",
              "0  San Diego  2024-01-14 21:12:46      10.683001     41.195754   \n",
              "\n",
              "   Precipitation_mm  Wind_Speed_kmh  Day  \n",
              "0          4.020119         8.23354   14  "
            ],
            "text/html": [
              "\n",
              "  <div id=\"df-18214f59-afc5-4c7b-b7c6-14dc4e460b8a\" class=\"colab-df-container\">\n",
              "    <div>\n",
              "<style scoped>\n",
              "    .dataframe tbody tr th:only-of-type {\n",
              "        vertical-align: middle;\n",
              "    }\n",
              "\n",
              "    .dataframe tbody tr th {\n",
              "        vertical-align: top;\n",
              "    }\n",
              "\n",
              "    .dataframe thead th {\n",
              "        text-align: right;\n",
              "    }\n",
              "</style>\n",
              "<table border=\"1\" class=\"dataframe\">\n",
              "  <thead>\n",
              "    <tr style=\"text-align: right;\">\n",
              "      <th></th>\n",
              "      <th>Location</th>\n",
              "      <th>Date_Time</th>\n",
              "      <th>Temperature_C</th>\n",
              "      <th>Humidity_pct</th>\n",
              "      <th>Precipitation_mm</th>\n",
              "      <th>Wind_Speed_kmh</th>\n",
              "      <th>Day</th>\n",
              "    </tr>\n",
              "  </thead>\n",
              "  <tbody>\n",
              "    <tr>\n",
              "      <th>0</th>\n",
              "      <td>San Diego</td>\n",
              "      <td>2024-01-14 21:12:46</td>\n",
              "      <td>10.683001</td>\n",
              "      <td>41.195754</td>\n",
              "      <td>4.020119</td>\n",
              "      <td>8.23354</td>\n",
              "      <td>14</td>\n",
              "    </tr>\n",
              "  </tbody>\n",
              "</table>\n",
              "</div>\n",
              "    <div class=\"colab-df-buttons\">\n",
              "\n",
              "  <div class=\"colab-df-container\">\n",
              "    <button class=\"colab-df-convert\" onclick=\"convertToInteractive('df-18214f59-afc5-4c7b-b7c6-14dc4e460b8a')\"\n",
              "            title=\"Convert this dataframe to an interactive table.\"\n",
              "            style=\"display:none;\">\n",
              "\n",
              "  <svg xmlns=\"http://www.w3.org/2000/svg\" height=\"24px\" viewBox=\"0 -960 960 960\">\n",
              "    <path d=\"M120-120v-720h720v720H120Zm60-500h600v-160H180v160Zm220 220h160v-160H400v160Zm0 220h160v-160H400v160ZM180-400h160v-160H180v160Zm440 0h160v-160H620v160ZM180-180h160v-160H180v160Zm440 0h160v-160H620v160Z\"/>\n",
              "  </svg>\n",
              "    </button>\n",
              "\n",
              "  <style>\n",
              "    .colab-df-container {\n",
              "      display:flex;\n",
              "      gap: 12px;\n",
              "    }\n",
              "\n",
              "    .colab-df-convert {\n",
              "      background-color: #E8F0FE;\n",
              "      border: none;\n",
              "      border-radius: 50%;\n",
              "      cursor: pointer;\n",
              "      display: none;\n",
              "      fill: #1967D2;\n",
              "      height: 32px;\n",
              "      padding: 0 0 0 0;\n",
              "      width: 32px;\n",
              "    }\n",
              "\n",
              "    .colab-df-convert:hover {\n",
              "      background-color: #E2EBFA;\n",
              "      box-shadow: 0px 1px 2px rgba(60, 64, 67, 0.3), 0px 1px 3px 1px rgba(60, 64, 67, 0.15);\n",
              "      fill: #174EA6;\n",
              "    }\n",
              "\n",
              "    .colab-df-buttons div {\n",
              "      margin-bottom: 4px;\n",
              "    }\n",
              "\n",
              "    [theme=dark] .colab-df-convert {\n",
              "      background-color: #3B4455;\n",
              "      fill: #D2E3FC;\n",
              "    }\n",
              "\n",
              "    [theme=dark] .colab-df-convert:hover {\n",
              "      background-color: #434B5C;\n",
              "      box-shadow: 0px 1px 3px 1px rgba(0, 0, 0, 0.15);\n",
              "      filter: drop-shadow(0px 1px 2px rgba(0, 0, 0, 0.3));\n",
              "      fill: #FFFFFF;\n",
              "    }\n",
              "  </style>\n",
              "\n",
              "    <script>\n",
              "      const buttonEl =\n",
              "        document.querySelector('#df-18214f59-afc5-4c7b-b7c6-14dc4e460b8a button.colab-df-convert');\n",
              "      buttonEl.style.display =\n",
              "        google.colab.kernel.accessAllowed ? 'block' : 'none';\n",
              "\n",
              "      async function convertToInteractive(key) {\n",
              "        const element = document.querySelector('#df-18214f59-afc5-4c7b-b7c6-14dc4e460b8a');\n",
              "        const dataTable =\n",
              "          await google.colab.kernel.invokeFunction('convertToInteractive',\n",
              "                                                    [key], {});\n",
              "        if (!dataTable) return;\n",
              "\n",
              "        const docLinkHtml = 'Like what you see? Visit the ' +\n",
              "          '<a target=\"_blank\" href=https://colab.research.google.com/notebooks/data_table.ipynb>data table notebook</a>'\n",
              "          + ' to learn more about interactive tables.';\n",
              "        element.innerHTML = '';\n",
              "        dataTable['output_type'] = 'display_data';\n",
              "        await google.colab.output.renderOutput(dataTable, element);\n",
              "        const docLink = document.createElement('div');\n",
              "        docLink.innerHTML = docLinkHtml;\n",
              "        element.appendChild(docLink);\n",
              "      }\n",
              "    </script>\n",
              "  </div>\n",
              "\n",
              "    </div>\n",
              "  </div>\n"
            ],
            "application/vnd.google.colaboratory.intrinsic+json": {
              "type": "dataframe",
              "variable_name": "df"
            }
          },
          "metadata": {},
          "execution_count": 97
        }
      ]
    },
    {
      "cell_type": "code",
      "source": [
        "df_expected = df[df['Day'] == 1]['Temperature_C']\n",
        "df_expected.describe()"
      ],
      "metadata": {
        "colab": {
          "base_uri": "https://localhost:8080/",
          "height": 335
        },
        "id": "7ebXNnmKYvKH",
        "outputId": "ccb9c4d4-5d51-4e4a-c17e-59c3653130fc"
      },
      "execution_count": 98,
      "outputs": [
        {
          "output_type": "execute_result",
          "data": {
            "text/plain": [
              "count    36042.000000\n",
              "mean        14.753494\n",
              "std         14.533268\n",
              "min        -19.478652\n",
              "25%          2.147910\n",
              "50%         14.757672\n",
              "75%         27.233637\n",
              "max         39.997953\n",
              "Name: Temperature_C, dtype: float64"
            ],
            "text/html": [
              "<div>\n",
              "<style scoped>\n",
              "    .dataframe tbody tr th:only-of-type {\n",
              "        vertical-align: middle;\n",
              "    }\n",
              "\n",
              "    .dataframe tbody tr th {\n",
              "        vertical-align: top;\n",
              "    }\n",
              "\n",
              "    .dataframe thead th {\n",
              "        text-align: right;\n",
              "    }\n",
              "</style>\n",
              "<table border=\"1\" class=\"dataframe\">\n",
              "  <thead>\n",
              "    <tr style=\"text-align: right;\">\n",
              "      <th></th>\n",
              "      <th>Temperature_C</th>\n",
              "    </tr>\n",
              "  </thead>\n",
              "  <tbody>\n",
              "    <tr>\n",
              "      <th>count</th>\n",
              "      <td>36042.000000</td>\n",
              "    </tr>\n",
              "    <tr>\n",
              "      <th>mean</th>\n",
              "      <td>14.753494</td>\n",
              "    </tr>\n",
              "    <tr>\n",
              "      <th>std</th>\n",
              "      <td>14.533268</td>\n",
              "    </tr>\n",
              "    <tr>\n",
              "      <th>min</th>\n",
              "      <td>-19.478652</td>\n",
              "    </tr>\n",
              "    <tr>\n",
              "      <th>25%</th>\n",
              "      <td>2.147910</td>\n",
              "    </tr>\n",
              "    <tr>\n",
              "      <th>50%</th>\n",
              "      <td>14.757672</td>\n",
              "    </tr>\n",
              "    <tr>\n",
              "      <th>75%</th>\n",
              "      <td>27.233637</td>\n",
              "    </tr>\n",
              "    <tr>\n",
              "      <th>max</th>\n",
              "      <td>39.997953</td>\n",
              "    </tr>\n",
              "  </tbody>\n",
              "</table>\n",
              "</div><br><label><b>dtype:</b> float64</label>"
            ]
          },
          "metadata": {},
          "execution_count": 98
        }
      ]
    },
    {
      "cell_type": "code",
      "source": [
        "df_actual = df[df['Day'] == 2]['Temperature_C']\n",
        "df_actual.describe()"
      ],
      "metadata": {
        "colab": {
          "base_uri": "https://localhost:8080/",
          "height": 335
        },
        "id": "pG177lAQaXtz",
        "outputId": "0e06d96b-31ad-45b1-9f67-7dac3dd6f0fb"
      },
      "execution_count": 111,
      "outputs": [
        {
          "output_type": "execute_result",
          "data": {
            "text/plain": [
              "count    36304.000000\n",
              "mean        14.733945\n",
              "std         14.451686\n",
              "min        -19.572010\n",
              "25%          2.275788\n",
              "50%         14.704125\n",
              "75%         27.138387\n",
              "max         39.999015\n",
              "Name: Temperature_C, dtype: float64"
            ],
            "text/html": [
              "<div>\n",
              "<style scoped>\n",
              "    .dataframe tbody tr th:only-of-type {\n",
              "        vertical-align: middle;\n",
              "    }\n",
              "\n",
              "    .dataframe tbody tr th {\n",
              "        vertical-align: top;\n",
              "    }\n",
              "\n",
              "    .dataframe thead th {\n",
              "        text-align: right;\n",
              "    }\n",
              "</style>\n",
              "<table border=\"1\" class=\"dataframe\">\n",
              "  <thead>\n",
              "    <tr style=\"text-align: right;\">\n",
              "      <th></th>\n",
              "      <th>Temperature_C</th>\n",
              "    </tr>\n",
              "  </thead>\n",
              "  <tbody>\n",
              "    <tr>\n",
              "      <th>count</th>\n",
              "      <td>36304.000000</td>\n",
              "    </tr>\n",
              "    <tr>\n",
              "      <th>mean</th>\n",
              "      <td>14.733945</td>\n",
              "    </tr>\n",
              "    <tr>\n",
              "      <th>std</th>\n",
              "      <td>14.451686</td>\n",
              "    </tr>\n",
              "    <tr>\n",
              "      <th>min</th>\n",
              "      <td>-19.572010</td>\n",
              "    </tr>\n",
              "    <tr>\n",
              "      <th>25%</th>\n",
              "      <td>2.275788</td>\n",
              "    </tr>\n",
              "    <tr>\n",
              "      <th>50%</th>\n",
              "      <td>14.704125</td>\n",
              "    </tr>\n",
              "    <tr>\n",
              "      <th>75%</th>\n",
              "      <td>27.138387</td>\n",
              "    </tr>\n",
              "    <tr>\n",
              "      <th>max</th>\n",
              "      <td>39.999015</td>\n",
              "    </tr>\n",
              "  </tbody>\n",
              "</table>\n",
              "</div><br><label><b>dtype:</b> float64</label>"
            ]
          },
          "metadata": {},
          "execution_count": 111
        }
      ]
    },
    {
      "cell_type": "code",
      "source": [
        "calculate_psi(df_expected, df_actual, bucket_type=\"bins\", n_bins=10,axis=0)"
      ],
      "metadata": {
        "colab": {
          "base_uri": "https://localhost:8080/"
        },
        "id": "NhJdVsd4czzU",
        "outputId": "94127449-dab4-475a-da8e-ff3b78a5a497"
      },
      "execution_count": 112,
      "outputs": [
        {
          "output_type": "execute_result",
          "data": {
            "text/plain": [
              "array(0.0006413)"
            ]
          },
          "metadata": {},
          "execution_count": 112
        }
      ]
    },
    {
      "cell_type": "code",
      "source": [
        "df.loc[(df['Day'] == 2) & (df['Temperature_C'] > 30), 'Temperature_C'] = 30\n",
        "df_damage_actual=df[df['Day'] == 2]['Temperature_C']\n",
        "df_damage_actual.describe()"
      ],
      "metadata": {
        "colab": {
          "base_uri": "https://localhost:8080/",
          "height": 335
        },
        "id": "YRpC4ZWFeC1V",
        "outputId": "a3293145-ccf1-47b5-ff3c-f4ff6490cbbb"
      },
      "execution_count": 113,
      "outputs": [
        {
          "output_type": "execute_result",
          "data": {
            "text/plain": [
              "count    36304.000000\n",
              "mean        13.775086\n",
              "std         13.123984\n",
              "min        -19.572010\n",
              "25%          2.275788\n",
              "50%         14.704125\n",
              "75%         27.138387\n",
              "max         30.000000\n",
              "Name: Temperature_C, dtype: float64"
            ],
            "text/html": [
              "<div>\n",
              "<style scoped>\n",
              "    .dataframe tbody tr th:only-of-type {\n",
              "        vertical-align: middle;\n",
              "    }\n",
              "\n",
              "    .dataframe tbody tr th {\n",
              "        vertical-align: top;\n",
              "    }\n",
              "\n",
              "    .dataframe thead th {\n",
              "        text-align: right;\n",
              "    }\n",
              "</style>\n",
              "<table border=\"1\" class=\"dataframe\">\n",
              "  <thead>\n",
              "    <tr style=\"text-align: right;\">\n",
              "      <th></th>\n",
              "      <th>Temperature_C</th>\n",
              "    </tr>\n",
              "  </thead>\n",
              "  <tbody>\n",
              "    <tr>\n",
              "      <th>count</th>\n",
              "      <td>36304.000000</td>\n",
              "    </tr>\n",
              "    <tr>\n",
              "      <th>mean</th>\n",
              "      <td>13.775086</td>\n",
              "    </tr>\n",
              "    <tr>\n",
              "      <th>std</th>\n",
              "      <td>13.123984</td>\n",
              "    </tr>\n",
              "    <tr>\n",
              "      <th>min</th>\n",
              "      <td>-19.572010</td>\n",
              "    </tr>\n",
              "    <tr>\n",
              "      <th>25%</th>\n",
              "      <td>2.275788</td>\n",
              "    </tr>\n",
              "    <tr>\n",
              "      <th>50%</th>\n",
              "      <td>14.704125</td>\n",
              "    </tr>\n",
              "    <tr>\n",
              "      <th>75%</th>\n",
              "      <td>27.138387</td>\n",
              "    </tr>\n",
              "    <tr>\n",
              "      <th>max</th>\n",
              "      <td>30.000000</td>\n",
              "    </tr>\n",
              "  </tbody>\n",
              "</table>\n",
              "</div><br><label><b>dtype:</b> float64</label>"
            ]
          },
          "metadata": {},
          "execution_count": 113
        }
      ]
    },
    {
      "cell_type": "code",
      "source": [
        "calculate_psi(df_expected, df_damage_actual, bucket_type=\"bins\", n_bins=10,axis=0)"
      ],
      "metadata": {
        "colab": {
          "base_uri": "https://localhost:8080/"
        },
        "id": "fbRtlyeuj8JL",
        "outputId": "3ca5e7f7-0850-4d51-95a4-e84b24aaeaa6"
      },
      "execution_count": 114,
      "outputs": [
        {
          "output_type": "execute_result",
          "data": {
            "text/plain": [
              "array(0.88657246)"
            ]
          },
          "metadata": {},
          "execution_count": 114
        }
      ]
    }
  ]
}